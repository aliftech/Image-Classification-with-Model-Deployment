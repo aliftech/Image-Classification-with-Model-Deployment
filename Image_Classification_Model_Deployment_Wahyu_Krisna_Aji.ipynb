{
  "cells": [
    {
      "cell_type": "markdown",
      "metadata": {
        "id": "eSJ1qStK8qwu"
      },
      "source": [
        "Nama : Wahyu Krisna Aji\n",
        "\n",
        "Dataset : Shoe vs Sandal vs Boot Image Dataset (15K Images)\n",
        "\n",
        "Source : Kaggle\n",
        "\n",
        "Link : https://www.kaggle.com/datasets/hasibalmuzdadid/shoe-vs-sandal-vs-boot-dataset-15k-images"
      ]
    },
    {
      "cell_type": "code",
      "execution_count": 15,
      "metadata": {
        "id": "fGagRE8UrZHF"
      },
      "outputs": [],
      "source": [
        "import os\n",
        "import zipfile\n",
        "import glob\n",
        "\n",
        "import tensorflow as tf\n",
        "from tensorflow.keras.preprocessing.image import ImageDataGenerator\n",
        "from tensorflow.keras.models import Sequential\n",
        "from tensorflow.keras.layers import Conv2D, MaxPooling2D, Activation, Dense, Flatten\n",
        "from tensorflow.keras.layers import Dropout\n",
        "from tensorflow.keras.optimizers import Adam\n",
        "\n",
        "from keras.preprocessing import image\n",
        "import pandas as pd\n",
        "# from google.colab import files\n",
        "import pathlib\n",
        "import numpy as np\n",
        "import matplotlib.pyplot as plt\n",
        "import matplotlib.image as mpimage\n",
        "%matplotlib inline"
      ]
    },
    {
      "cell_type": "code",
      "execution_count": null,
      "metadata": {
        "id": "veUP9zhf0T9n"
      },
      "outputs": [],
      "source": [
        "file_name = 'archive.zip'\n",
        "extract_file = zipfile.ZipFile(file_name, 'r')\n",
        "extract_file.extractall('/alas-kaki')\n",
        "extract_file.close()"
      ]
    },
    {
      "cell_type": "code",
      "execution_count": 2,
      "metadata": {
        "id": "5DKzPeM-1lhY"
      },
      "outputs": [],
      "source": [
        "main_repo = \"/alas-kaki/Shoe vs Sandal vs Boot Dataset\""
      ]
    },
    {
      "cell_type": "code",
      "execution_count": 3,
      "metadata": {
        "colab": {
          "base_uri": "https://localhost:8080/"
        },
        "id": "61F0tSvZLTPL",
        "outputId": "21fed68f-efab-453d-d2d8-26250f1fa708"
      },
      "outputs": [
        {
          "data": {
            "text/plain": [
              "['Boot', 'Sandal', 'Shoe']"
            ]
          },
          "execution_count": 3,
          "metadata": {},
          "output_type": "execute_result"
        }
      ],
      "source": [
        "list_main_repo = os.listdir(main_repo)\n",
        "list_main_repo"
      ]
    },
    {
      "cell_type": "code",
      "execution_count": 4,
      "metadata": {
        "id": "fzmUODksNU5o"
      },
      "outputs": [],
      "source": [
        "sandal_repo = os.path.join(main_repo, 'Sandal')\n",
        "shoe_repo = os.path.join(main_repo, 'Shoe')\n",
        "boot_repo = os.path.join(main_repo, 'Boot')"
      ]
    },
    {
      "cell_type": "code",
      "execution_count": 5,
      "metadata": {
        "id": "6sKlX4juOBww"
      },
      "outputs": [],
      "source": [
        "total_sandal = len(os.listdir(sandal_repo))\n",
        "total_shoe = len(os.listdir(shoe_repo))\n",
        "total_boot = len(os.listdir(boot_repo))"
      ]
    },
    {
      "cell_type": "code",
      "execution_count": 6,
      "metadata": {
        "colab": {
          "base_uri": "https://localhost:8080/"
        },
        "id": "PA89-dOGOgeo",
        "outputId": "5b3d9b0b-d183-4ff4-c22b-744cbd7f4bb8"
      },
      "outputs": [
        {
          "name": "stdout",
          "output_type": "stream",
          "text": [
            "Total Sandal    :  5000\n",
            "Total Shoe   :  5000\n",
            "Total Boot   :  5000\n"
          ]
        }
      ],
      "source": [
        "print(\"Total Sandal    : \", total_sandal)\n",
        "print(\"Total Shoe   : \", total_shoe)\n",
        "print(\"Total Boot   : \", total_boot)"
      ]
    },
    {
      "cell_type": "code",
      "execution_count": 8,
      "metadata": {
        "id": "IrWfkxL2PMmM"
      },
      "outputs": [],
      "source": [
        "training_data = ImageDataGenerator(\n",
        "    rotation_range = 30,\n",
        "    shear_range = 0.2,\n",
        "    zoom_range = 0.2,\n",
        "    horizontal_flip = True,\n",
        "    fill_mode = \"nearest\",\n",
        "    rescale = 1./255,\n",
        "    validation_split = 0.2\n",
        ")\n",
        "\n",
        "validation_data = ImageDataGenerator(\n",
        "    rotation_range = 30,\n",
        "    shear_range = 0.2,\n",
        "    zoom_range = 0.2,\n",
        "    horizontal_flip = True,\n",
        "    fill_mode = \"nearest\",\n",
        "    rescale = 1./255,\n",
        "    validation_split = 0.2\n",
        ")"
      ]
    },
    {
      "cell_type": "code",
      "execution_count": 9,
      "metadata": {
        "colab": {
          "base_uri": "https://localhost:8080/"
        },
        "id": "5JitZK5-QepY",
        "outputId": "76efab68-df03-4c97-a7ef-8f6dc70d5aca"
      },
      "outputs": [
        {
          "name": "stdout",
          "output_type": "stream",
          "text": [
            "Found 12000 images belonging to 3 classes.\n",
            "Found 3000 images belonging to 3 classes.\n"
          ]
        }
      ],
      "source": [
        "generator_training_data = training_data.flow_from_directory(\n",
        "    main_repo,\n",
        "    target_size = (136,102),\n",
        "    color_mode = \"rgb\",\n",
        "    class_mode = \"categorical\",\n",
        "    batch_size = 128,\n",
        "    shuffle = True,\n",
        "    subset = \"training\"\n",
        ")\n",
        "\n",
        "generator_validation_data = validation_data.flow_from_directory(\n",
        "    main_repo,\n",
        "    target_size = (136,102),\n",
        "    color_mode = \"rgb\",\n",
        "    class_mode = \"categorical\",\n",
        "    batch_size = 128,\n",
        "    shuffle = False,\n",
        "    subset = \"validation\"\n",
        ")"
      ]
    },
    {
      "cell_type": "code",
      "execution_count": 10,
      "metadata": {
        "id": "KVCbtzM3RGej"
      },
      "outputs": [],
      "source": [
        "Image_Model = Sequential([\n",
        "    Conv2D(64, (3,3), activation='relu', input_shape=(136,102, 3)),\n",
        "    MaxPooling2D(2,2),\n",
        "    Conv2D(32, (3,3), activation='relu'),\n",
        "    MaxPooling2D(2,2),\n",
        "    Dropout(0.5),  \n",
        "    Conv2D(64, (3,3), activation='relu'), \n",
        "    MaxPooling2D(2,2),\n",
        "    Dropout(0.5),  \n",
        "    Flatten(), \n",
        "    Dense(512, activation='relu'),\n",
        "    Dense(256, activation='relu'),\n",
        "    Dense(3, activation='softmax')\n",
        "])"
      ]
    },
    {
      "cell_type": "code",
      "execution_count": 11,
      "metadata": {
        "id": "GzBCF3WySBL3"
      },
      "outputs": [],
      "source": [
        "Adam(learning_rate=0.00146, name='Adam')\n",
        "Image_Model.compile(optimizer = 'Adam',loss = 'categorical_crossentropy',metrics = ['accuracy'])"
      ]
    },
    {
      "cell_type": "code",
      "execution_count": 12,
      "metadata": {
        "id": "xdkxvseoSLfh"
      },
      "outputs": [],
      "source": [
        "\n",
        "class newCallbacks(tf.keras.callbacks.Callback):\n",
        "  def on_epoch_end(self, epoch, logs={}):\n",
        "    if(logs.get('accuracy') > 0.9):\n",
        "      print(\"Akurasi telah tercapai!\")\n",
        "      self.model.stop_training = True\n",
        "\n",
        "cb = newCallbacks()"
      ]
    },
    {
      "cell_type": "code",
      "execution_count": 13,
      "metadata": {
        "colab": {
          "base_uri": "https://localhost:8080/"
        },
        "id": "ILTk_X19Tv8m",
        "outputId": "27cc2a8c-6a08-483b-ab9a-5e4fdf8768a9"
      },
      "outputs": [
        {
          "name": "stdout",
          "output_type": "stream",
          "text": [
            "Model: \"sequential\"\n",
            "_________________________________________________________________\n",
            " Layer (type)                Output Shape              Param #   \n",
            "=================================================================\n",
            " conv2d (Conv2D)             (None, 134, 100, 64)      1792      \n",
            "                                                                 \n",
            " max_pooling2d (MaxPooling2D  (None, 67, 50, 64)       0         \n",
            " )                                                               \n",
            "                                                                 \n",
            " conv2d_1 (Conv2D)           (None, 65, 48, 32)        18464     \n",
            "                                                                 \n",
            " max_pooling2d_1 (MaxPooling  (None, 32, 24, 32)       0         \n",
            " 2D)                                                             \n",
            "                                                                 \n",
            " dropout (Dropout)           (None, 32, 24, 32)        0         \n",
            "                                                                 \n",
            " conv2d_2 (Conv2D)           (None, 30, 22, 64)        18496     \n",
            "                                                                 \n",
            " max_pooling2d_2 (MaxPooling  (None, 15, 11, 64)       0         \n",
            " 2D)                                                             \n",
            "                                                                 \n",
            " dropout_1 (Dropout)         (None, 15, 11, 64)        0         \n",
            "                                                                 \n",
            " flatten (Flatten)           (None, 10560)             0         \n",
            "                                                                 \n",
            " dense (Dense)               (None, 512)               5407232   \n",
            "                                                                 \n",
            " dense_1 (Dense)             (None, 256)               131328    \n",
            "                                                                 \n",
            " dense_2 (Dense)             (None, 3)                 771       \n",
            "                                                                 \n",
            "=================================================================\n",
            "Total params: 5,578,083\n",
            "Trainable params: 5,578,083\n",
            "Non-trainable params: 0\n",
            "_________________________________________________________________\n"
          ]
        }
      ],
      "source": [
        "Image_Model.summary()"
      ]
    },
    {
      "cell_type": "code",
      "execution_count": 14,
      "metadata": {
        "colab": {
          "base_uri": "https://localhost:8080/"
        },
        "id": "6RbL8984W9yq",
        "outputId": "43c69e40-9496-459d-bb3c-a5d1b852ba4a"
      },
      "outputs": [
        {
          "name": "stdout",
          "output_type": "stream",
          "text": [
            "Epoch 1/50\n",
            "94/94 - 518s - loss: 0.9272 - accuracy: 0.5440 - val_loss: 0.8231 - val_accuracy: 0.6280 - 518s/epoch - 6s/step\n",
            "Epoch 2/50\n",
            "94/94 - 561s - loss: 0.6000 - accuracy: 0.7374 - val_loss: 0.6074 - val_accuracy: 0.7690 - 561s/epoch - 6s/step\n",
            "Epoch 3/50\n",
            "94/94 - 403s - loss: 0.4869 - accuracy: 0.7938 - val_loss: 0.5798 - val_accuracy: 0.7690 - 403s/epoch - 4s/step\n",
            "Epoch 4/50\n",
            "94/94 - 449s - loss: 0.4191 - accuracy: 0.8227 - val_loss: 0.4902 - val_accuracy: 0.8467 - 449s/epoch - 5s/step\n",
            "Epoch 5/50\n",
            "94/94 - 641s - loss: 0.3659 - accuracy: 0.8522 - val_loss: 0.3811 - val_accuracy: 0.8853 - 641s/epoch - 7s/step\n",
            "Epoch 6/50\n",
            "94/94 - 393s - loss: 0.3221 - accuracy: 0.8718 - val_loss: 0.3756 - val_accuracy: 0.8840 - 393s/epoch - 4s/step\n",
            "Epoch 7/50\n",
            "94/94 - 373s - loss: 0.3069 - accuracy: 0.8793 - val_loss: 0.3430 - val_accuracy: 0.8630 - 373s/epoch - 4s/step\n",
            "Epoch 8/50\n",
            "94/94 - 368s - loss: 0.2737 - accuracy: 0.8948 - val_loss: 0.2561 - val_accuracy: 0.9157 - 368s/epoch - 4s/step\n",
            "Epoch 9/50\n",
            "Akurasi telah tercapai!\n",
            "94/94 - 368s - loss: 0.2557 - accuracy: 0.9023 - val_loss: 0.2721 - val_accuracy: 0.9067 - 368s/epoch - 4s/step\n"
          ]
        }
      ],
      "source": [
        "model_hist = Image_Model.fit(\n",
        "    generator_training_data,\n",
        "    validation_data=generator_validation_data,\n",
        "    epochs=50,\n",
        "    verbose=2,\n",
        "    batch_size=128,\n",
        "    callbacks=[cb]\n",
        ")"
      ]
    },
    {
      "cell_type": "code",
      "execution_count": 16,
      "metadata": {
        "id": "29Jajtq2I1o0"
      },
      "outputs": [
        {
          "data": {
            "image/png": "[encoded data removed]",
            "text/plain": [
              "<Figure size 432x288 with 1 Axes>"
            ]
          },
          "metadata": {
            "needs_background": "light"
          },
          "output_type": "display_data"
        }
      ],
      "source": [
        "plt.plot(model_hist.history['accuracy'])\n",
        "plt.plot(model_hist.history['val_accuracy'])\n",
        "plt.title('Model Accuracy')\n",
        "plt.ylabel('accuracy')\n",
        "plt.xlabel('epoch')\n",
        "plt.legend(['training', 'validation'], loc='upper left')\n",
        "plt.show()"
      ]
    },
    {
      "cell_type": "code",
      "execution_count": 17,
      "metadata": {
        "id": "icu7AMsoJkjV"
      },
      "outputs": [
        {
          "data": {
            "image/png": "[encoded data removed]",
            "text/plain": [
              "<Figure size 432x288 with 1 Axes>"
            ]
          },
          "metadata": {
            "needs_background": "light"
          },
          "output_type": "display_data"
        }
      ],
      "source": [
        "plt.plot(model_hist.history['loss'])\n",
        "plt.plot(model_hist.history['val_loss'])\n",
        "plt.title('Model Loss')\n",
        "plt.ylabel('loss')\n",
        "plt.xlabel('epoch')\n",
        "plt.legend(['training', 'validation'], loc='upper left')\n",
        "plt.show()"
      ]
    },
    {
      "cell_type": "code",
      "execution_count": 20,
      "metadata": {
        "id": "BnDAKLDlKdvr"
      },
      "outputs": [
        {
          "name": "stderr",
          "output_type": "stream",
          "text": [
            "WARNING:absl:Found untraced functions such as _jit_compiled_convolution_op, _jit_compiled_convolution_op, _jit_compiled_convolution_op while saving (showing 3 of 3). These functions will not be directly callable after loading.\n"
          ]
        },
        {
          "name": "stdout",
          "output_type": "stream",
          "text": [
            "INFO:tensorflow:Assets written to: saved_model/assets\n"
          ]
        },
        {
          "name": "stderr",
          "output_type": "stream",
          "text": [
            "INFO:tensorflow:Assets written to: saved_model/assets\n"
          ]
        }
      ],
      "source": [
        "# Membuat model dengan format pb\n",
        "export_repo = 'saved_model/'\n",
        "tf.saved_model.save(Image_Model, export_repo)\n",
        " \n",
        "# Konversi model pb ke tflite\n",
        "model_converter = tf.lite.TFLiteConverter.from_saved_model(export_repo)\n",
        "tflite_converted_model = model_converter.convert()\n",
        " \n",
        "with open('sandal.tflite', 'wb') as f:\n",
        "  f.write(tflite_converted_model)"
      ]
    }
  ],
  "metadata": {
    "colab": {
      "provenance": []
    },
    "kernelspec": {
      "display_name": "Python 3",
      "name": "python3"
    },
    "language_info": {
      "codemirror_mode": {
        "name": "ipython",
        "version": 3
      },
      "file_extension": ".py",
      "mimetype": "text/x-python",
      "name": "python",
      "nbconvert_exporter": "python",
      "pygments_lexer": "ipython3",
      "version": "3.10.4"
    }
  },
  "nbformat": 4,
  "nbformat_minor": 0
}
